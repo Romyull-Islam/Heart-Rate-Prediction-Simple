{
  "nbformat": 4,
  "nbformat_minor": 0,
  "metadata": {
    "colab": {
      "provenance": [],
      "mount_file_id": "1o_S3VtsTU-WP3FIik31aL-mempf9LvUn",
      "authorship_tag": "ABX9TyOtRihxRs+HADnM0EbcBoWl",
      "include_colab_link": true
    },
    "kernelspec": {
      "name": "python3",
      "display_name": "Python 3"
    },
    "language_info": {
      "name": "python"
    }
  },
  "cells": [
    {
      "cell_type": "markdown",
      "metadata": {
        "id": "view-in-github",
        "colab_type": "text"
      },
      "source": [
        "<a href=\"https://colab.research.google.com/github/Romyull-Islam/Heart-Rate-Prediction-Simple/blob/main/simple_heart_rate.ipynb\" target=\"_parent\"><img src=\"https://colab.research.google.com/assets/colab-badge.svg\" alt=\"Open In Colab\"/></a>"
      ]
    },
    {
      "cell_type": "code",
      "source": [
        "import pandas as pd\n",
        "import numpy as np\n",
        "from sklearn.model_selection import train_test_split\n",
        "from sklearn.linear_model import LinearRegression\n",
        "from sklearn.metrics import mean_squared_error"
      ],
      "metadata": {
        "id": "Be0qkmSs2hgk"
      },
      "execution_count": null,
      "outputs": []
    },
    {
      "cell_type": "code",
      "source": [
        "# Load the dataset\n",
        "data = pd.read_csv('/content/drive/MyDrive/My PC dell/Study and Research/Dr bhuiyan/TA/spring 2023/Heart Rate/time_domain.csv')"
      ],
      "metadata": {
        "id": "OCqlIyW469gu"
      },
      "execution_count": null,
      "outputs": []
    },
    {
      "cell_type": "code",
      "source": [
        "data = data.drop('uuid', axis=1) # drop record id\n",
        "\n",
        "# Preprocess the data\n",
        "data = data.dropna() # remove rows with missing values\n"
      ],
      "metadata": {
        "id": "boLQFTfs7Bir"
      },
      "execution_count": null,
      "outputs": []
    },
    {
      "cell_type": "code",
      "source": [
        "\n",
        "X = data.drop('HR', axis=1) # extract features\n",
        "y = data['HR'] # extract target variable\n",
        "\n",
        "# Split the data into training and testing sets\n",
        "X_train, X_test, y_train, y_test = train_test_split(X, y, test_size=0.2, random_state=42)"
      ],
      "metadata": {
        "id": "fa6Y7tFm7D1R"
      },
      "execution_count": null,
      "outputs": []
    },
    {
      "cell_type": "code",
      "execution_count": null,
      "metadata": {
        "colab": {
          "base_uri": "https://localhost:8080/"
        },
        "id": "U6EIdn_S2dRv",
        "outputId": "16055518-b2fb-4dc0-af99-32d31646a2b1"
      },
      "outputs": [
        {
          "output_type": "execute_result",
          "data": {
            "text/plain": [
              "LinearRegression()"
            ]
          },
          "metadata": {},
          "execution_count": 10
        }
      ],
      "source": [
        "# Train the model\n",
        "model = LinearRegression()\n",
        "model.fit(X_train, y_train)\n",
        "\n"
      ]
    },
    {
      "cell_type": "code",
      "source": [
        "# Predict heart rate on test set\n",
        "y_pred = model.predict(X_test)\n",
        "\n",
        "# Evaluate the model\n",
        "mse = mean_squared_error(y_test, y_pred)\n",
        "rmse = np.sqrt(mse)\n",
        "print(\"Root mean squared error:\", rmse)"
      ],
      "metadata": {
        "colab": {
          "base_uri": "https://localhost:8080/"
        },
        "id": "eU8PoRQ27Hrh",
        "outputId": "14a5bbca-5697-4b78-e847-18084e60dba1"
      },
      "execution_count": null,
      "outputs": [
        {
          "output_type": "stream",
          "name": "stdout",
          "text": [
            "Root mean squared error: 1.6381023722918162\n"
          ]
        }
      ]
    },
    {
      "cell_type": "markdown",
      "source": [
        "In this code, we first load the heart rate dataset from a CSV file using Pandas. We then preprocess the data by removing rows with missing values and extracting the features and target variable. We split the data into training and testing sets using train_test_split from scikit-learn. We train a linear regression model using the training set and predict heart rate on the test set. Finally, we evaluate the model using the root mean squared error metric.\n",
        "\n",
        "Note that this is just an example code, and you may need to customize it based on your specific dataset and machine learning algorithm. You may also need to perform additional preprocessing steps such as feature scaling, normalization, or encoding categorical variables, depending on the requirements of your model."
      ],
      "metadata": {
        "id": "XiGaiXza2mGl"
      }
    },
    {
      "cell_type": "code",
      "source": [],
      "metadata": {
        "id": "VEo3NyV32mvG"
      },
      "execution_count": null,
      "outputs": []
    }
  ]
}