{
  "nbformat": 4,
  "nbformat_minor": 0,
  "metadata": {
    "colab": {
      "provenance": [],
      "authorship_tag": "ABX9TyMua0L1esfEMeVzu6k2J1M4",
      "include_colab_link": true
    },
    "kernelspec": {
      "name": "python3",
      "display_name": "Python 3"
    },
    "language_info": {
      "name": "python"
    }
  },
  "cells": [
    {
      "cell_type": "markdown",
      "metadata": {
        "id": "view-in-github",
        "colab_type": "text"
      },
      "source": [
        "<a href=\"https://colab.research.google.com/github/Romyull-Islam/Heart-Rate-Prediction-Simple/blob/main/heart_rate_time_domain.ipynb\" target=\"_parent\"><img src=\"https://colab.research.google.com/assets/colab-badge.svg\" alt=\"Open In Colab\"/></a>"
      ]
    },
    {
      "cell_type": "code",
      "execution_count": null,
      "metadata": {
        "id": "tf0KGTB85jCV"
      },
      "outputs": [],
      "source": [
        "import pandas as pd\n",
        "import numpy as np\n",
        "from sklearn.model_selection import train_test_split\n",
        "from sklearn.ensemble import RandomForestRegressor\n",
        "from sklearn.metrics import mean_squared_error\n",
        "\n",
        "# Load the dataset\n",
        "data = pd.read_csv('heart_rate_time_series_dataset.csv', index_col='time', parse_dates=True)\n",
        "\n",
        "# Resample the data to a fixed frequency (e.g., 1 minute)\n",
        "data_resampled = data.resample('1T').mean().ffill()\n",
        "\n",
        "# Create time lag features\n",
        "for lag in range(1, 6):\n",
        "    data_resampled[f'heart_rate_lag{lag}'] = data_resampled['heart_rate'].shift(lag)\n",
        "\n",
        "# Remove rows with missing values\n",
        "data_resampled = data_resampled.dropna()\n",
        "\n",
        "# Extract features and target variable\n",
        "X = data_resampled.drop('heart_rate', axis=1)\n",
        "y = data_resampled['heart_rate']\n",
        "\n",
        "# Split the data into training and testing sets\n",
        "X_train, X_test, y_train, y_test = train_test_split(X, y, test_size=0.2, random_state=42)\n",
        "\n",
        "# Train the model\n",
        "model = RandomForestRegressor(n_estimators=100, max_depth=10, random_state=42)\n",
        "model.fit(X_train, y_train)\n",
        "\n",
        "# Predict heart rate on test set\n",
        "y_pred = model.predict(X_test)\n",
        "\n",
        "# Evaluate the model\n",
        "mse = mean_squared_error(y_test, y_pred)\n",
        "rmse = np.sqrt(mse)\n",
        "print(\"Root mean squared error:\", rmse)"
      ]
    },
    {
      "cell_type": "markdown",
      "source": [
        "In this code, we first load the heart rate time series dataset from a CSV file using Pandas. We resample the data to a fixed frequency (1 minute) using resample and forward fill any missing values using ffill. We then create time lag features for the heart rate using a for loop that shifts the heart rate values by a range of lags (1 to 5) and appends them as new features to the data. We remove rows with missing values and extract the features and target variable. We split the data into training and testing sets using train_test_split from scikit-learn. We train a random forest regression model using the training set and predict heart rate on the test set. Finally, we evaluate the model using the root mean squared error metric.\n",
        "\n",
        "Note that this is just an example code, and you may need to customize it based on your specific time series heart rate dataset and machine learning algorithm. You may also need to perform additional preprocessing steps such as detrending, deseasonalizing, or removing outliers, depending on the characteristics of your data."
      ],
      "metadata": {
        "id": "WqwqrkyJ52Tr"
      }
    },
    {
      "cell_type": "code",
      "source": [],
      "metadata": {
        "id": "sSJCeuNZ551f"
      },
      "execution_count": null,
      "outputs": []
    }
  ]
}